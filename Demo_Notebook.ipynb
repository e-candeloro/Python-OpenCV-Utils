{
 "cells": [
  {
   "cell_type": "code",
   "execution_count": 26,
   "metadata": {},
   "outputs": [],
   "source": [
    "import numpy as np"
   ]
  },
  {
   "cell_type": "markdown",
   "metadata": {},
   "source": [
    "# Euler Angles and Rotation Matrix\n",
    "- Direct problem: euler -> rotm\n",
    "- Inverse problem: rotm -> euler"
   ]
  },
  {
   "cell_type": "markdown",
   "metadata": {},
   "source": [
    "![EULER-ANGLES-RPY](images/roll-pitch-yaw.jpg)"
   ]
  },
  {
   "cell_type": "code",
   "execution_count": 27,
   "metadata": {},
   "outputs": [],
   "source": [
    "# Calculates Rotation Matrix given euler angles in the order of YAW(psi), PITCH(theta), ROLL(phi)\n",
    "def eulerAnglesToRotationMatrix(theta):\n",
    "    '''\n",
    "    :param: theta: np array \n",
    "        array of angles (radians) in the order of YAW(psi), PITCH(theta), ROLL(phi)\n",
    "\n",
    "    YAW = rotation around the x axis\n",
    "    PITCH = rotation around the y axis\n",
    "    ROLL = rotation around the z axis\n",
    "\n",
    "    :return: 3 by 3 np array\n",
    "        Return 3x3 rotation matrix\n",
    "    '''\n",
    "    #yaw rotation\n",
    "    R_x = np.array([[1,         0,                  0                   ],\n",
    "                    [0,         np.cos(theta[0]), -np.sin(theta[0]) ],\n",
    "                    [0,         np.sin(theta[0]), np.cos(theta[0])  ]\n",
    "                    ])\n",
    "    #pitch rotation\n",
    "    R_y = np.array([[np.cos(theta[1]),    0,      np.sin(theta[1])  ],\n",
    "                    [0,                     1,      0                   ],\n",
    "                    [-np.sin(theta[1]),   0,      np.cos(theta[1])  ]\n",
    "                    ])\n",
    "    #roll rotation\n",
    "    R_z = np.array([[np.cos(theta[2]),    -np.sin(theta[2]),    0],\n",
    "                    [np.sin(theta[2]),    np.cos(theta[2]),     0],\n",
    "                    [0,                     0,                      1]\n",
    "                    ])\n",
    "\n",
    "    R = np.dot(R_z, np.dot( R_y, R_x ))\n",
    "\n",
    "    return R\n"
   ]
  },
  {
   "cell_type": "code",
   "execution_count": 28,
   "metadata": {},
   "outputs": [
    {
     "name": "stdout",
     "output_type": "stream",
     "text": [
      "[0.         0.78539816 1.57079633]\n"
     ]
    }
   ],
   "source": [
    "angles_1 = np.array([0, 45, 90]) * (np.pi/180)\n",
    "print(angles_1)"
   ]
  },
  {
   "cell_type": "code",
   "execution_count": 29,
   "metadata": {},
   "outputs": [
    {
     "name": "stdout",
     "output_type": "stream",
     "text": [
      "[[ 4.32978028e-17 -1.00000000e+00  4.32978028e-17]\n",
      " [ 7.07106781e-01  6.12323400e-17  7.07106781e-01]\n",
      " [-7.07106781e-01  0.00000000e+00  7.07106781e-01]]\n"
     ]
    }
   ],
   "source": [
    "R = eulerAnglesToRotationMatrix(angles_1)\n",
    "print(R)"
   ]
  },
  {
   "cell_type": "code",
   "execution_count": 30,
   "metadata": {},
   "outputs": [],
   "source": [
    "def isRotationMatrix(R, precision = 1e-4):\n",
    "    \"\"\"\n",
    "    Checks if a matrix is a rotation matrix\n",
    "    :param R: np.array matrix of 3 by 3\n",
    "    :param precision: float\n",
    "        precision to respect to accept a zero value in identity matrix check (default is 1e-4)\n",
    "    :return: True or False\n",
    "        Return True if a matrix is a rotation matrix, False if not\n",
    "    \"\"\"\n",
    "    Rt = np.transpose(R)\n",
    "    shouldBeIdentity = np.dot(Rt, R)\n",
    "    I = np.identity(3, dtype=R.dtype)\n",
    "    n = np.linalg.norm(I - shouldBeIdentity)\n",
    "    return n < precision\n",
    "\n",
    "def rotationMatrixToEulerAngles(R, precision = 1e-4):\n",
    "    \"\"\"\n",
    "    Computes the Tait–Bryan Euler () angles from a Rotation Matrix.\n",
    "    Also checks if there is a gymbal lock and eventually use an alternative formula\n",
    "    :param R: np.array\n",
    "        3 x 3 Rotation matrix\n",
    "    :param precision: float\n",
    "        precision to respect to accept a zero value in identity matrix check (default is 1e-4)\n",
    "    :return: (yaw, pitch, roll) tuple of float numbers\n",
    "        Euler angles in radians in the order of YAW, PITCH, ROLL\n",
    "    \"\"\"\n",
    "    # Calculates Tait–Bryan Euler angles from a Rotation Matrix\n",
    "    assert (isRotationMatrix(R, precision))  # check if it's a Rmat\n",
    "\n",
    "    sy = np.sqrt(R[0, 0] * R[0, 0] + R[1, 0] * R[1, 0]) # assert that sqrt(R11^2 + R21^2) != 0\n",
    "    singular = sy < precision\n",
    "\n",
    "    if not singular:  #if not in a singularity, use the standard formula\n",
    "        x = np.arctan2(R[2, 1], R[2, 2])  # atan2(R31, R33) -> YAW, angle PSI\n",
    "        \n",
    "        # atan2(-R31, sqrt(R11^2 + R21^2)) -> PITCH, angle delta\n",
    "        y = np.arctan2(-R[2, 0], sy)\n",
    "\n",
    "        z = np.arctan2(R[1, 0], R[0, 0]) #atan2(R21,R11) -> ROLL, angle phi\n",
    "\n",
    "    else:  # if in gymbal lock, use different formula for yaw, pitch roll\n",
    "        x = np.arctan2(-R[1, 2], R[1, 1])\n",
    "        y = np.arctan2(-R[2, 0], sy)\n",
    "        z = 0\n",
    "\n",
    "    return np.array([x, y, z]) # returns YAW, PITCH, ROLL\n"
   ]
  },
  {
   "cell_type": "code",
   "execution_count": 31,
   "metadata": {},
   "outputs": [
    {
     "name": "stdout",
     "output_type": "stream",
     "text": [
      "YAW:0.0\n",
      "PITCH:45.0\n",
      "ROLL:90.0\n"
     ]
    }
   ],
   "source": [
    "angles = rotationMatrixToEulerAngles(R) * 180/np.pi\n",
    "print(f\"YAW:{angles[0]}\\nPITCH:{angles[1]}\\nROLL:{angles[2]}\")"
   ]
  },
  {
   "cell_type": "code",
   "execution_count": 32,
   "metadata": {},
   "outputs": [
    {
     "name": "stdout",
     "output_type": "stream",
     "text": [
      "[[ 4.32978028e-17 -1.00000000e+00  4.32978028e-17]\n",
      " [ 7.07106781e-01  6.12323400e-17  7.07106781e-01]\n",
      " [-7.07106781e-01  0.00000000e+00  7.07106781e-01]]\n",
      "YAW:-0.0\n",
      "PITCH:90.0\n",
      "ROLL:0.0\n"
     ]
    }
   ],
   "source": [
    "#let's try a singularity point where pitch = 90°\n",
    "sing_angl = np.array([45,90,45]) * np.pi/180\n",
    "R_sing = eulerAnglesToRotationMatrix(sing_angl)\n",
    "print(R)\n",
    "rev_angl = rotationMatrixToEulerAngles(R_sing) * 180/np.pi\n",
    "print(f\"YAW:{rev_angl[0]}\\nPITCH:{rev_angl[1]}\\nROLL:{rev_angl[2]}\")\n"
   ]
  }
 ],
 "metadata": {
  "interpreter": {
   "hash": "ad2bdc8ecc057115af97d19610ffacc2b4e99fae6737bb82f5d7fb13d2f2c186"
  },
  "kernelspec": {
   "display_name": "Python 3.8.8 ('base')",
   "language": "python",
   "name": "python3"
  },
  "language_info": {
   "codemirror_mode": {
    "name": "ipython",
    "version": 3
   },
   "file_extension": ".py",
   "mimetype": "text/x-python",
   "name": "python",
   "nbconvert_exporter": "python",
   "pygments_lexer": "ipython3",
   "version": "3.8.8"
  },
  "orig_nbformat": 4
 },
 "nbformat": 4,
 "nbformat_minor": 2
}
